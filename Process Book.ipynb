{
 "cells": [
  {
   "cell_type": "markdown",
   "metadata": {},
   "source": [
    "# Bayesian Asians Final Project: Predicting Music Popularity"
   ]
  },
  {
   "cell_type": "markdown",
   "metadata": {},
   "source": [
    "# Overview and Motivation "
   ]
  },
  {
   "cell_type": "markdown",
   "metadata": {},
   "source": [
    "<img width=600 height=400 src=\"http://icdn8.digitaltrends.com/image/music-header-625x1000.jpg\"/>\n",
    "\n",
    "**Provide an overview of the project goals and the motivation for it. Consider that this will be read by people who did not see your project proposal** \n",
    "\n",
    "In an age where music is hip one day and old the next, what does it mean for artists or songs to be popular? And if we knew what popular meant, is there a good way for people to predict popularity, to predict new trends? \n",
    "\n",
    "Today we take a look at modelling popularity with song information. We won't look at music as it trends over time, instead focusing on whether at any snapshot moment in time we are able to take a song or artist and, given what we information we can, attempt to predict its popularity. \n",
    "\n",
    "Our main goals involve: \n",
    "\n",
    "**(1)** Understanding how members of the music industry define features of music (such intense features such as \"danciness\", \"hotness\", and \"speechiness\")\n",
    "\n",
    "**(2)** Assessing which, if any, of these available features can give us a good signal the popularity of songs and artists (to be defined below)\n",
    "\n",
    "**(3)** Assessing how well we can predict a song's popularity by such summary statistics\n",
    "\n",
    "On top of this, we aim to:\n",
    "\n",
    "**(4)** Analyze lyrics for each song and construct additional predictive features from this\n",
    "\n",
    "(Image credit: http://www.digitaltrends.com/music/the-beauty-of-data-in-music-discovery-how-to-use-it-to-find-the-next-music-sensation/)"
   ]
  },
  {
   "cell_type": "markdown",
   "metadata": {},
   "source": [
    "# Related Work"
   ]
  },
  {
   "cell_type": "markdown",
   "metadata": {},
   "source": [
    "**Anything that inspired you, such as a paper, a web site, or something we discussed in class.**\n",
    "\n",
    "When we were doing homework 1, we thought to ourselves, \"This is so cool! But what if we could go further...\". We were initially inspired by how a seemingly simple task of assessing popularity could be so multilayered and faceted, approached from a variety of angles. And initially, we lacked the technical knowhow (and time) to significantly improve upon the analyses that the homework challenged us to do. \n",
    "\n",
    "But we have that now! And so we started to research the topic. \n",
    "\n",
    "We found that there was an abundance of data that we could leverage in interesting ways, and several other websites that claimed to be able to predict \"music's next hit\". And so we did what any aspiring data scientists would do: \n",
    "\n",
    "We asked, \"can we do better?\""
   ]
  },
  {
   "cell_type": "markdown",
   "metadata": {},
   "source": [
    "# Initial Questions"
   ]
  },
  {
   "cell_type": "markdown",
   "metadata": {},
   "source": [
    "**What questions are you trying to answer? How did these questions evolve over the course of the project? What new questions did you consider in the course of your analysis? - Data: Source, scraping method, cleanup, storage, etc.**\n",
    "\n",
    "The main questions we tried to answer were: \n",
    "\n",
    "**(1)** How can we assess the popularity of a song? \n",
    "\n",
    "**(2)** How can we predict the popularity of a song based on the features we have and any constructed features? \n",
    "\n",
    "Our main source of data was the Echo Nest, an API specializing in music data with a developed and built out platform including extensive tools and libraries. It includes an insane number of data points from a diverse group of media companies and even recently partnered with Spotify to include their music information as well.  \n",
    "\n",
    "Because of this, our questions quickly turned to:\n",
    "\n",
    "**(1)** Why is there so much music data? And,\n",
    "\n",
    "**(2)** Why the heck does Echo Nest spell \"hotness\" as \"hotttnesss\"? \n",
    "\n",
    "To get at our data, we leveraged the Echo Nest API to pull song information. \n",
    "\n",
    "TODO: Talk about what new questions we considered"
   ]
  },
  {
   "cell_type": "markdown",
   "metadata": {},
   "source": [
    "TODO: ALLEN TALK ABOUT \"SCRAPING\"/API METHOD HERE IF THE ABOVE DOES NOT SUFFICE (TIME RANGE OF DATA PULL, ETC.)"
   ]
  },
  {
   "cell_type": "markdown",
   "metadata": {},
   "source": [
    "TODO: RICHARD TALK ABOUT CLEANUP/STORAGE/CONVERSION TO DF"
   ]
  },
  {
   "cell_type": "markdown",
   "metadata": {},
   "source": [
    "**artist_discovery**: measure of how unexpectedly popular the artist is\n",
    "\n",
    "**artist_discovery_rank**: relative ranking of how unexpectedly popular the artist is\n",
    "\n",
    "**artist_familiarity**: measure of how familiar, or well known an artist is to the world\n",
    "\n",
    "**artist_familiarity_rank**: relative ranking of this familiarity compared to other artists\n",
    "\n",
    "**artist_hottness**: measure of how much an artist is trending based on social media, reviews, etc.\n",
    "\n",
    "**artist_hotness_rank**: relative rank of hotness compared to other artists\n",
    "\n",
    "**artist_id**: unique identifier for an artist\n",
    "\n",
    "**artist_location**: dictionary containing the latitude and longitude of the location that the artist operates in \n",
    "\n",
    "**artist_name**: the name of the artist (self-explanatory)\n",
    "\n",
    "**audio_summary**: dictionary containing details relating to the song audio such as key, time signature, tempo, and other abstract measures such as liveness, danceability, and energy\n",
    "\n",
    "**id**: unique identifier for a song\n",
    "\n",
    "**song_currency**: how recently popular the song is\n",
    "\n",
    "**song_hotness**: measure of how much a song is trending based on social media, reviews, etc.\n",
    "\n",
    "**song_type**: list of categories that the song falls under \n",
    "\n",
    "**title**: name of the song"
   ]
  },
  {
   "cell_type": "markdown",
   "metadata": {},
   "source": [
    "# Exploratory Data Analysis"
   ]
  },
  {
   "cell_type": "markdown",
   "metadata": {},
   "source": [
    "**What visualizations did you use to look at your data in different ways? What are the different statistical methods you considered? Justify the decisions you made, and show any major changes to your ideas. How did you reach these conclusions?**"
   ]
  },
  {
   "cell_type": "markdown",
   "metadata": {},
   "source": [
    "Since Echo Nest has a pre-defined ranking system and rating values, we didn't think there was much value in visualizing those, but we did so anyways to make sure our data pull was drammatically skewed in any direction: "
   ]
  },
  {
   "cell_type": "markdown",
   "metadata": {},
   "source": [
    "TODO: JESSE INSERT DUMB GRAPHS HERE"
   ]
  },
  {
   "cell_type": "markdown",
   "metadata": {},
   "source": [
    "We did want to examine the distribution of song types (vocal, electric, etc.) - obviously there will be more popular genres and types, but that isn't necessarily indicative of the overall population of types. "
   ]
  },
  {
   "cell_type": "markdown",
   "metadata": {},
   "source": [
    "TODO: JESSE INSERT TYPE GRAPH HERE"
   ]
  },
  {
   "cell_type": "markdown",
   "metadata": {},
   "source": [
    "Also of interest to us were the most \"popular\" artists by their song rankings compared to the ranking provided by Echo Nest. This is of particular significance considering that our training will involve the artist and song ranking that Echo Nest provides. \n",
    "\n",
    "We first attempted to assess an artist's popularity by those with the number of songs in the top 1000 ranked first by currency, then by hotness. Currency is a measure of how recently the song trended, and hotness is a measure of the song's performance on social media, reviews, and the like. We then selected the top N and displayed them:"
   ]
  },
  {
   "cell_type": "markdown",
   "metadata": {},
   "source": [
    "TODO: JESSE INSERT ARTIST POPULARITY GRAPHS HERE"
   ]
  },
  {
   "cell_type": "markdown",
   "metadata": {},
   "source": [
    "Let's compare this with Echo Nest's ranking of artists based on their familiarity, hotness, and discovery metrics (familiarity and hotness are as above, discovery is defined as a metric of how unexpectedly popular an artist is). "
   ]
  },
  {
   "cell_type": "markdown",
   "metadata": {},
   "source": [
    "TODO: JESSE INSERT ECHO NEST ARTIST POPULARITY STUFF HERE"
   ]
  },
  {
   "cell_type": "markdown",
   "metadata": {},
   "source": [
    "Now let's take a look at our features. Because we'll be using them to predict popularity and rankings, we want to get a better understanding of their distributions. The ones most worthwhile visualizing due to the nature of the features were tempo and duration, referring to the average speed of the song and the time length of the song respectively: "
   ]
  },
  {
   "cell_type": "markdown",
   "metadata": {},
   "source": [
    "TODO: JESSE INSERT TEMPO AND DURATION DISTRIBUTION GRAPHS HERE"
   ]
  },
  {
   "cell_type": "markdown",
   "metadata": {},
   "source": [
    "But what about the rest of the features? Their distributions might not be relevant or informative because Echo Nest slapped some arbitrary metrics onto them, but we can still see their pairwise correlations: "
   ]
  },
  {
   "cell_type": "markdown",
   "metadata": {},
   "source": [
    "TODO: JESSE INSERT THE PAIRWISE CORRELATIONS GRAPH HERE"
   ]
  },
  {
   "cell_type": "markdown",
   "metadata": {},
   "source": [
    "TODO: JESSE TALK ABOUT WHAT THIS GRAPH SHOWS ABOUT OUR FEATURES AND MAKE OTHER CONCLUSIONSSSSS"
   ]
  },
  {
   "cell_type": "markdown",
   "metadata": {},
   "source": [
    "# Final Analysis"
   ]
  },
  {
   "cell_type": "markdown",
   "metadata": {},
   "source": [
    "**What did you learn about the data? How did you answer the questions? How can you justify your answers?**"
   ]
  },
  {
   "cell_type": "markdown",
   "metadata": {},
   "source": [
    "# Presentation"
   ]
  },
  {
   "cell_type": "markdown",
   "metadata": {},
   "source": [
    "**Present your final results in a compelling and engaging way using text, visualizations, images, and videos on your project web site.**"
   ]
  },
  {
   "cell_type": "code",
   "execution_count": null,
   "metadata": {
    "collapsed": true
   },
   "outputs": [],
   "source": []
  }
 ],
 "metadata": {
  "kernelspec": {
   "display_name": "Python 2",
   "language": "python",
   "name": "python2"
  },
  "language_info": {
   "codemirror_mode": {
    "name": "ipython",
    "version": 2
   },
   "file_extension": ".py",
   "mimetype": "text/x-python",
   "name": "python",
   "nbconvert_exporter": "python",
   "pygments_lexer": "ipython2",
   "version": "2.7.10"
  }
 },
 "nbformat": 4,
 "nbformat_minor": 0
}
